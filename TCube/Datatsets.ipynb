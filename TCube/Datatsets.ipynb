{
 "cells": [
  {
   "cell_type": "code",
   "execution_count": 31,
   "metadata": {},
   "outputs": [],
   "source": [
    "import numpy as np\n",
    "import pandas as pd\n",
    "import calendar\n",
    "import re"
   ]
  },
  {
   "cell_type": "markdown",
   "metadata": {},
   "source": [
    "### COVID19"
   ]
  },
  {
   "cell_type": "code",
   "execution_count": 4,
   "metadata": {},
   "outputs": [],
   "source": [
    "#Import Covid Dataset\n",
    "\n",
    "ds_covid = pd.read_csv(\"Data/COVID/owid-covid-data.csv\")\n",
    "#If missing values: Interpolate: ds_covid = ds_covid.interpolate(method='nearest')\n",
    "ds_covid = ds_covid.fillna(0)\n",
    "ds_covid.date = pd.to_datetime(ds_covid.date)\n",
    "ds_covid['month'] = pd.DatetimeIndex(ds_covid['date']).month\n",
    "ds_covid['month'] = ds_covid['month'].apply(lambda x: calendar.month_name[x])\n",
    "ds_covid['year'] = pd.DatetimeIndex(ds_covid['date']).year\n",
    "ds_covid.set_index(['date'],inplace=True)"
   ]
  },
  {
   "cell_type": "code",
   "execution_count": 24,
   "metadata": {},
   "outputs": [
    {
     "name": "stdout",
     "output_type": "stream",
     "text": [
      "Counts:  351.4\n",
      "Mean:  17556.742687014485\n",
      "STD:  19553.469775960824\n",
      "MIN:  -46076.0\n",
      "MAX:  298031.0\n"
     ]
    }
   ],
   "source": [
    "countries = ['USA', 'IND', 'BRA', 'RUS', 'GBR', 'FRA', 'ESP', 'ITA' , 'TUR',  'DEU']\n",
    "\n",
    "counts = []\n",
    "mean = []\n",
    "std = []\n",
    "min_v = []\n",
    "max_v = []\n",
    "\n",
    "for iso in countries:\n",
    "    country = ds_covid[ds_covid['iso_code']==iso][['new_cases']].reset_index().drop(columns=['date'])\n",
    "    counts.append(country.count()[0])\n",
    "    mean.append(country.mean()[0])\n",
    "    std.append(country.std()[0])\n",
    "    min_v.append(country.min()[0])\n",
    "    max_v.append(country.max()[0])\n",
    "\n",
    "print(\"Counts: \", np.mean(counts))\n",
    "print(\"Mean: \", np.mean(mean))\n",
    "print(\"STD: \", np.mean(std))\n",
    "print(\"MIN: \", min(min_v))\n",
    "print(\"MAX: \", max(max_v))"
   ]
  },
  {
   "cell_type": "markdown",
   "metadata": {},
   "source": [
    "### DOTS"
   ]
  },
  {
   "cell_type": "code",
   "execution_count": 29,
   "metadata": {},
   "outputs": [],
   "source": [
    "#Import DOTS Dataset\n",
    "ds_dots = pd.read_csv(\"Data/DOTS/Exports.csv\")\n",
    "countries = ['United States', 'India', 'Brazil', 'USSR', 'United Kingdom', 'France', 'Spain', 'Italy' , 'Turkey', 'Germany']"
   ]
  },
  {
   "cell_type": "code",
   "execution_count": 32,
   "metadata": {},
   "outputs": [
    {
     "name": "stdout",
     "output_type": "stream",
     "text": [
      "Counts:  254.0\n",
      "Mean:  13570.985212598427\n",
      "STD:  6275.553445917292\n",
      "MIN:  0.0\n",
      "MAX:  109011.45\n"
     ]
    }
   ],
   "source": [
    "counts = []\n",
    "mean = []\n",
    "std = []\n",
    "min_v = []\n",
    "max_v = []\n",
    "\n",
    "for c in countries:\n",
    "    \n",
    "    country = ds_dots.loc[ds_dots['Location'] == c]\n",
    "    time = country.columns.tolist()[1:]\n",
    "    for row in country.iterrows():\n",
    "        values = row[1]\n",
    "    values = [str(x) for x in values]\n",
    "    values = [float(re.sub(',', '', x)) for x in values[1:]]\n",
    "    time = [re.sub('M', '-', x) for x in time]\n",
    "    country = pd.DataFrame(list(zip(time, values)), columns = ['Date', 'Exports'])\n",
    "    \n",
    "    country = country.fillna(0)\n",
    "    country.Date = pd.to_datetime(country.Date)\n",
    "    country['month'] = pd.DatetimeIndex(country['Date']).month\n",
    "    country['month'] = country['month'].apply(lambda x: calendar.month_name[x])\n",
    "    country['year'] = pd.DatetimeIndex(country['Date']).year\n",
    "    country.set_index(['Date'],inplace=True)\n",
    "    \n",
    "    country = country[['Exports']].reset_index().drop(columns=['Date'])\n",
    "    counts.append(country.count()[0])\n",
    "    mean.append(country.mean()[0])\n",
    "    std.append(country.std()[0])\n",
    "    min_v.append(country.min()[0])\n",
    "    max_v.append(country.max()[0])\n",
    "\n",
    "print(\"Counts: \", np.mean(counts))\n",
    "print(\"Mean: \", np.mean(mean))\n",
    "print(\"STD: \", np.mean(std))\n",
    "print(\"MIN: \", min(min_v))\n",
    "print(\"MAX: \", max(max_v))"
   ]
  },
  {
   "cell_type": "markdown",
   "metadata": {},
   "source": [
    "### US Air Pollution"
   ]
  },
  {
   "cell_type": "code",
   "execution_count": 33,
   "metadata": {},
   "outputs": [],
   "source": [
    "#Import US Pollution Dataset\n",
    "ds_poll = pd.read_csv(\"Data/USPollution/USPollution.csv\")\n",
    "ds_poll = ds_poll.dropna()\n",
    "ds_poll['Date Local'] = pd.to_datetime(ds_poll['Date Local'])\n",
    "ds_poll['month'] = pd.DatetimeIndex(ds_poll['Date Local']).month\n",
    "ds_poll['month'] = ds_poll['month'].apply(lambda x: calendar.month_name[x])\n",
    "ds_poll['year'] = pd.DatetimeIndex(ds_poll['Date Local']).year\n",
    "ds_poll.set_index(['Date Local'],inplace=True)"
   ]
  },
  {
   "cell_type": "code",
   "execution_count": 34,
   "metadata": {},
   "outputs": [
    {
     "name": "stdout",
     "output_type": "stream",
     "text": [
      "Counts:  4722.1\n",
      "Mean:  0.3926498905978665\n",
      "STD:  0.22031763634420098\n",
      "MIN:  -0.304348\n",
      "MAX:  3.477778\n"
     ]
    }
   ],
   "source": [
    "counts = []\n",
    "mean = []\n",
    "std = []\n",
    "min_v = []\n",
    "max_v = []\n",
    "\n",
    "\n",
    "for i in [1,2,5,8,9,10,11,12,13,15]:\n",
    "\n",
    "    country = ds_poll[ds_poll['State Code']==i][['CO Mean']].reset_index().drop(columns=['Date Local'])\n",
    "    counts.append(country.count()[0])\n",
    "    mean.append(country.mean()[0])\n",
    "    std.append(country.std()[0])\n",
    "    min_v.append(country.min()[0])\n",
    "    max_v.append(country.max()[0])\n",
    "\n",
    "print(\"Counts: \", np.mean(counts))\n",
    "print(\"Mean: \", np.mean(mean))\n",
    "print(\"STD: \", np.mean(std))\n",
    "print(\"MIN: \", min(min_v))\n",
    "print(\"MAX: \", max(max_v))"
   ]
  },
  {
   "cell_type": "markdown",
   "metadata": {},
   "source": [
    "### Population Dataset"
   ]
  },
  {
   "cell_type": "code",
   "execution_count": 35,
   "metadata": {},
   "outputs": [],
   "source": [
    "#Import Population Dataset\n",
    "ds_pop = pd.read_csv(\"Data/Population/Pop.csv\")\n",
    "ds_pop = ds_pop.dropna()"
   ]
  },
  {
   "cell_type": "code",
   "execution_count": 36,
   "metadata": {},
   "outputs": [],
   "source": [
    "countries = ['USA', 'IND', 'BRA', 'RUS', 'GBR', 'FRA', 'ESP', 'ITA' , 'TUR',  'DEU']"
   ]
  },
  {
   "cell_type": "code",
   "execution_count": 38,
   "metadata": {},
   "outputs": [
    {
     "name": "stdout",
     "output_type": "stream",
     "text": [
      "Counts:  21.5\n",
      "Mean:  80244323.88008772\n",
      "STD:  48291312.403779395\n",
      "MIN:  800000.0\n",
      "MAX:  1004124000.0\n"
     ]
    }
   ],
   "source": [
    "counts = []\n",
    "mean = []\n",
    "std = []\n",
    "min_v = []\n",
    "max_v = []\n",
    "\n",
    "for iso in countries:\n",
    "    country = ds_pop[ds_pop['Code']==iso][['Population by Country (Clio Infra (2016))']].reset_index().drop(columns=['index'])\n",
    "    counts.append(country.count()[0])\n",
    "    mean.append(country.mean()[0])\n",
    "    std.append(country.std()[0])\n",
    "    min_v.append(country.min()[0])\n",
    "    max_v.append(country.max()[0])\n",
    "\n",
    "print(\"Counts: \", np.mean(counts))\n",
    "print(\"Mean: \", np.mean(mean))\n",
    "print(\"STD: \", np.mean(std))\n",
    "print(\"MIN: \", min(min_v))\n",
    "print(\"MAX: \", max(max_v))"
   ]
  },
  {
   "cell_type": "markdown",
   "metadata": {},
   "source": [
    "### Global Temperature"
   ]
  },
  {
   "cell_type": "code",
   "execution_count": 39,
   "metadata": {},
   "outputs": [],
   "source": [
    "#Import Land Temp Dataset\n",
    "ds_gtemp = pd.read_csv(\"Data/GlobalTemperature/GlobalLandTemperaturesByCountry.csv\")\n",
    "ds_gtemp = ds_gtemp.dropna()\n",
    "ds_gtemp['dt'] = pd.to_datetime(ds_gtemp['dt'])\n",
    "ds_gtemp['month'] = pd.DatetimeIndex(ds_gtemp['dt']).month\n",
    "ds_gtemp['month'] = ds_gtemp['month'].apply(lambda x: calendar.month_name[x])\n",
    "ds_gtemp['year'] = pd.DatetimeIndex(ds_gtemp['dt']).year\n",
    "ds_gtemp.set_index(['dt'],inplace=True)\n",
    "\n",
    "countries = ['United States', 'India', 'Brazil', 'Russia', 'United Kingdom', 'France', 'Spain', 'Italy' , 'Turkey', 'Germany']"
   ]
  },
  {
   "cell_type": "code",
   "execution_count": 40,
   "metadata": {},
   "outputs": [
    {
     "name": "stdout",
     "output_type": "stream",
     "text": [
      "Counts:  3166.0\n",
      "Mean:  8.152496209728366\n",
      "STD:  6.9134269691182535\n",
      "MIN:  -9.298\n",
      "MAX:  22.343000000000004\n"
     ]
    }
   ],
   "source": [
    "counts = []\n",
    "mean = []\n",
    "std = []\n",
    "min_v = []\n",
    "max_v = []\n",
    "\n",
    "for iso in countries:\n",
    "    country =  ds_gtemp[ds_gtemp['Country']==c][['AverageTemperature']].reset_index().drop(columns=['dt'])\n",
    "    counts.append(country.count()[0])\n",
    "    mean.append(country.mean()[0])\n",
    "    std.append(country.std()[0])\n",
    "    min_v.append(country.min()[0])\n",
    "    max_v.append(country.max()[0])\n",
    "\n",
    "print(\"Counts: \", np.mean(counts))\n",
    "print(\"Mean: \", np.mean(mean))\n",
    "print(\"STD: \", np.mean(std))\n",
    "print(\"MIN: \", min(min_v))\n",
    "print(\"MAX: \", max(max_v))"
   ]
  }
 ],
 "metadata": {
  "kernelspec": {
   "display_name": "Python 3",
   "language": "python",
   "name": "python3"
  },
  "language_info": {
   "codemirror_mode": {
    "name": "ipython",
    "version": 3
   },
   "file_extension": ".py",
   "mimetype": "text/x-python",
   "name": "python",
   "nbconvert_exporter": "python",
   "pygments_lexer": "ipython3",
   "version": "3.6.9"
  }
 },
 "nbformat": 4,
 "nbformat_minor": 4
}
